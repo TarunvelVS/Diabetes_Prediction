{
  "metadata": {
    "kernelspec": {
      "language": "python",
      "display_name": "Python 3",
      "name": "python3"
    },
    "language_info": {
      "name": "python",
      "version": "3.10.13",
      "mimetype": "text/x-python",
      "codemirror_mode": {
        "name": "ipython",
        "version": 3
      },
      "pygments_lexer": "ipython3",
      "nbconvert_exporter": "python",
      "file_extension": ".py"
    },
    "kaggle": {
      "accelerator": "none",
      "dataSources": [
        {
          "sourceId": 6674905,
          "sourceType": "datasetVersion",
          "datasetId": 1936563
        }
      ],
      "dockerImageVersionId": 30732,
      "isInternetEnabled": true,
      "language": "python",
      "sourceType": "notebook",
      "isGpuEnabled": false
    },
    "colab": {
      "name": "Health_Infomatics",
      "provenance": []
    }
  },
  "nbformat_minor": 0,
  "nbformat": 4,
  "cells": [
    {
      "source": [
        "\n",
        "# IMPORTANT: RUN THIS CELL IN ORDER TO IMPORT YOUR KAGGLE DATA SOURCES\n",
        "# TO THE CORRECT LOCATION (/kaggle/input) IN YOUR NOTEBOOK,\n",
        "# THEN FEEL FREE TO DELETE THIS CELL.\n",
        "# NOTE: THIS NOTEBOOK ENVIRONMENT DIFFERS FROM KAGGLE'S PYTHON\n",
        "# ENVIRONMENT SO THERE MAY BE MISSING LIBRARIES USED BY YOUR\n",
        "# NOTEBOOK.\n",
        "\n",
        "import os\n",
        "import sys\n",
        "from tempfile import NamedTemporaryFile\n",
        "from urllib.request import urlopen\n",
        "from urllib.parse import unquote, urlparse\n",
        "from urllib.error import HTTPError\n",
        "from zipfile import ZipFile\n",
        "import tarfile\n",
        "import shutil\n",
        "\n",
        "CHUNK_SIZE = 40960\n",
        "DATA_SOURCE_MAPPING = 'personal-key-indicators-of-heart-disease:https%3A%2F%2Fstorage.googleapis.com%2Fkaggle-data-sets%2F1936563%2F6674905%2Fbundle%2Farchive.zip%3FX-Goog-Algorithm%3DGOOG4-RSA-SHA256%26X-Goog-Credential%3Dgcp-kaggle-com%2540kaggle-161607.iam.gserviceaccount.com%252F20240611%252Fauto%252Fstorage%252Fgoog4_request%26X-Goog-Date%3D20240611T165319Z%26X-Goog-Expires%3D259200%26X-Goog-SignedHeaders%3Dhost%26X-Goog-Signature%3D6b5f76e943552237d04e1bdea56b683b3dbc1ce501ed7ce1ba66ceda53f0d99898050a594190cd6a90d540b3c09926776bfcd209ffd8c3a84ebcc6edc6c0ab3be652b15380884e29b222d90ffb4064887e45735b49b24b5e696413f8a597096834cfac2373b2becd5cdb8d2971f68d2797b9753066973aceaf8e6355bcab81a99ad80a627bee1adac21d32297ca24945caee43e9ea9ca642526415aae842d450aa6d81b974dcad2d7520112623a75189d02b054f6149b194b70c8ccfb3fed2d2826a5105c9affe85151653b16967a588a4dff2ea53243f939b74bdbd061aceb0ce6216b08c378624c2793a42c435e8fc7ebb345134159942d343692d1cb5f889'\n",
        "\n",
        "KAGGLE_INPUT_PATH='/kaggle/input'\n",
        "KAGGLE_WORKING_PATH='/kaggle/working'\n",
        "KAGGLE_SYMLINK='kaggle'\n",
        "\n",
        "!umount /kaggle/input/ 2> /dev/null\n",
        "shutil.rmtree('/kaggle/input', ignore_errors=True)\n",
        "os.makedirs(KAGGLE_INPUT_PATH, 0o777, exist_ok=True)\n",
        "os.makedirs(KAGGLE_WORKING_PATH, 0o777, exist_ok=True)\n",
        "\n",
        "try:\n",
        "  os.symlink(KAGGLE_INPUT_PATH, os.path.join(\"..\", 'input'), target_is_directory=True)\n",
        "except FileExistsError:\n",
        "  pass\n",
        "try:\n",
        "  os.symlink(KAGGLE_WORKING_PATH, os.path.join(\"..\", 'working'), target_is_directory=True)\n",
        "except FileExistsError:\n",
        "  pass\n",
        "\n",
        "for data_source_mapping in DATA_SOURCE_MAPPING.split(','):\n",
        "    directory, download_url_encoded = data_source_mapping.split(':')\n",
        "    download_url = unquote(download_url_encoded)\n",
        "    filename = urlparse(download_url).path\n",
        "    destination_path = os.path.join(KAGGLE_INPUT_PATH, directory)\n",
        "    try:\n",
        "        with urlopen(download_url) as fileres, NamedTemporaryFile() as tfile:\n",
        "            total_length = fileres.headers['content-length']\n",
        "            print(f'Downloading {directory}, {total_length} bytes compressed')\n",
        "            dl = 0\n",
        "            data = fileres.read(CHUNK_SIZE)\n",
        "            while len(data) > 0:\n",
        "                dl += len(data)\n",
        "                tfile.write(data)\n",
        "                done = int(50 * dl / int(total_length))\n",
        "                sys.stdout.write(f\"\\r[{'=' * done}{' ' * (50-done)}] {dl} bytes downloaded\")\n",
        "                sys.stdout.flush()\n",
        "                data = fileres.read(CHUNK_SIZE)\n",
        "            if filename.endswith('.zip'):\n",
        "              with ZipFile(tfile) as zfile:\n",
        "                zfile.extractall(destination_path)\n",
        "            else:\n",
        "              with tarfile.open(tfile.name) as tarfile:\n",
        "                tarfile.extractall(destination_path)\n",
        "            print(f'\\nDownloaded and uncompressed: {directory}')\n",
        "    except HTTPError as e:\n",
        "        print(f'Failed to load (likely expired) {download_url} to path {destination_path}')\n",
        "        continue\n",
        "    except OSError as e:\n",
        "        print(f'Failed to load {download_url} to path {destination_path}')\n",
        "        continue\n",
        "\n",
        "print('Data source import complete.')\n"
      ],
      "metadata": {
        "id": "DxIaSXqAYH2i"
      },
      "cell_type": "code",
      "outputs": [],
      "execution_count": null
    },
    {
      "cell_type": "code",
      "source": [
        "# This Python 3 environment comes with many helpful analytics libraries installed\n",
        "# It is defined by the kaggle/python Docker image: https://github.com/kaggle/docker-python\n",
        "# For example, here's several helpful packages to load\n",
        "\n",
        "import numpy as np # linear algebra\n",
        "import pandas as pd # data processing, CSV file I/O (e.g. pd.read_csv)\n",
        "\n",
        "# Input data files are available in the read-only \"../input/\" directory\n",
        "# For example, running this (by clicking run or pressing Shift+Enter) will list all files under the input directory\n",
        "\n",
        "import os\n",
        "for dirname, _, filenames in os.walk('/kaggle/input'):\n",
        "    for filename in filenames:\n",
        "        print(os.path.join(dirname, filename))\n",
        "\n",
        "# You can write up to 20GB to the current directory (/kaggle/working/) that gets preserved as output when you create a version using \"Save & Run All\"\n",
        "# You can also write temporary files to /kaggle/temp/, but they won't be saved outside of the current session"
      ],
      "metadata": {
        "_uuid": "8f2839f25d086af736a60e9eeb907d3b93b6e0e5",
        "_cell_guid": "b1076dfc-b9ad-4769-8c92-a6c4dae69d19",
        "execution": {
          "iopub.status.busy": "2024-06-11T16:44:16.599217Z",
          "iopub.execute_input": "2024-06-11T16:44:16.600084Z",
          "iopub.status.idle": "2024-06-11T16:44:16.614206Z",
          "shell.execute_reply.started": "2024-06-11T16:44:16.60003Z",
          "shell.execute_reply": "2024-06-11T16:44:16.612923Z"
        },
        "trusted": true,
        "id": "XNG6VC-hYH2j",
        "outputId": "14f820e3-d772-4e52-c175-749d635d51ae"
      },
      "execution_count": null,
      "outputs": [
        {
          "name": "stdout",
          "text": "/kaggle/input/personal-key-indicators-of-heart-disease/2020/heart_2020_cleaned.csv\n/kaggle/input/personal-key-indicators-of-heart-disease/2022/heart_2022_with_nans.csv\n/kaggle/input/personal-key-indicators-of-heart-disease/2022/heart_2022_no_nans.csv\n",
          "output_type": "stream"
        }
      ]
    },
    {
      "cell_type": "code",
      "source": [
        "import pandas as pd\n",
        "import numpy as np\n",
        "import matplotlib.pyplot as plt\n",
        "import seaborn as sns"
      ],
      "metadata": {
        "execution": {
          "iopub.status.busy": "2024-06-11T16:44:16.616666Z",
          "iopub.execute_input": "2024-06-11T16:44:16.617109Z",
          "iopub.status.idle": "2024-06-11T16:44:16.622403Z",
          "shell.execute_reply.started": "2024-06-11T16:44:16.617075Z",
          "shell.execute_reply": "2024-06-11T16:44:16.621173Z"
        },
        "trusted": true,
        "id": "hLust-31YH2j"
      },
      "execution_count": null,
      "outputs": []
    },
    {
      "cell_type": "code",
      "source": [
        "data = pd.read_csv(\"/kaggle/input/personal-key-indicators-of-heart-disease/2020/heart_2020_cleaned.csv\")"
      ],
      "metadata": {
        "execution": {
          "iopub.status.busy": "2024-06-11T16:44:16.623647Z",
          "iopub.execute_input": "2024-06-11T16:44:16.62404Z",
          "iopub.status.idle": "2024-06-11T16:44:17.511799Z",
          "shell.execute_reply.started": "2024-06-11T16:44:16.62401Z",
          "shell.execute_reply": "2024-06-11T16:44:17.510549Z"
        },
        "trusted": true,
        "id": "IkYO6TffYH2k"
      },
      "execution_count": null,
      "outputs": []
    },
    {
      "cell_type": "code",
      "source": [
        "data.info()"
      ],
      "metadata": {
        "execution": {
          "iopub.status.busy": "2024-06-11T16:44:17.513051Z",
          "iopub.execute_input": "2024-06-11T16:44:17.513441Z",
          "iopub.status.idle": "2024-06-11T16:44:17.736625Z",
          "shell.execute_reply.started": "2024-06-11T16:44:17.513408Z",
          "shell.execute_reply": "2024-06-11T16:44:17.735386Z"
        },
        "trusted": true,
        "id": "QL6LzAFmYH2k",
        "outputId": "f3209982-c5fa-4642-c14e-7283f55216f3"
      },
      "execution_count": null,
      "outputs": [
        {
          "name": "stdout",
          "text": "<class 'pandas.core.frame.DataFrame'>\nRangeIndex: 319795 entries, 0 to 319794\nData columns (total 18 columns):\n #   Column            Non-Null Count   Dtype  \n---  ------            --------------   -----  \n 0   HeartDisease      319795 non-null  object \n 1   BMI               319795 non-null  float64\n 2   Smoking           319795 non-null  object \n 3   AlcoholDrinking   319795 non-null  object \n 4   Stroke            319795 non-null  object \n 5   PhysicalHealth    319795 non-null  float64\n 6   MentalHealth      319795 non-null  float64\n 7   DiffWalking       319795 non-null  object \n 8   Sex               319795 non-null  object \n 9   AgeCategory       319795 non-null  object \n 10  Race              319795 non-null  object \n 11  Diabetic          319795 non-null  object \n 12  PhysicalActivity  319795 non-null  object \n 13  GenHealth         319795 non-null  object \n 14  SleepTime         319795 non-null  float64\n 15  Asthma            319795 non-null  object \n 16  KidneyDisease     319795 non-null  object \n 17  SkinCancer        319795 non-null  object \ndtypes: float64(4), object(14)\nmemory usage: 43.9+ MB\n",
          "output_type": "stream"
        }
      ]
    },
    {
      "cell_type": "code",
      "source": [
        "data[\"HeartDisease\"].value_counts()"
      ],
      "metadata": {
        "execution": {
          "iopub.status.busy": "2024-06-11T16:44:17.739258Z",
          "iopub.execute_input": "2024-06-11T16:44:17.739624Z",
          "iopub.status.idle": "2024-06-11T16:44:17.773614Z",
          "shell.execute_reply.started": "2024-06-11T16:44:17.739592Z",
          "shell.execute_reply": "2024-06-11T16:44:17.772401Z"
        },
        "trusted": true,
        "id": "6OFsKt8NYH2k",
        "outputId": "38faf4c0-d5fa-40c4-b0ed-2553a8d21d1c"
      },
      "execution_count": null,
      "outputs": [
        {
          "execution_count": 137,
          "output_type": "execute_result",
          "data": {
            "text/plain": "HeartDisease\nNo     292422\nYes     27373\nName: count, dtype: int64"
          },
          "metadata": {}
        }
      ]
    },
    {
      "cell_type": "code",
      "source": [
        "data[\"KidneyDisease\"].value_counts()"
      ],
      "metadata": {
        "execution": {
          "iopub.status.busy": "2024-06-11T16:44:17.775497Z",
          "iopub.execute_input": "2024-06-11T16:44:17.776062Z",
          "iopub.status.idle": "2024-06-11T16:44:17.809919Z",
          "shell.execute_reply.started": "2024-06-11T16:44:17.776017Z",
          "shell.execute_reply": "2024-06-11T16:44:17.808577Z"
        },
        "trusted": true,
        "id": "ipwwRMDXYH2k",
        "outputId": "5bdbe1c5-e8ec-4c4f-ccb1-617085300147"
      },
      "execution_count": null,
      "outputs": [
        {
          "execution_count": 138,
          "output_type": "execute_result",
          "data": {
            "text/plain": "KidneyDisease\nNo     308016\nYes     11779\nName: count, dtype: int64"
          },
          "metadata": {}
        }
      ]
    },
    {
      "cell_type": "code",
      "source": [
        "data[\"SkinCancer\"].value_counts()"
      ],
      "metadata": {
        "execution": {
          "iopub.status.busy": "2024-06-11T16:44:17.811489Z",
          "iopub.execute_input": "2024-06-11T16:44:17.811872Z",
          "iopub.status.idle": "2024-06-11T16:44:17.847881Z",
          "shell.execute_reply.started": "2024-06-11T16:44:17.811841Z",
          "shell.execute_reply": "2024-06-11T16:44:17.846344Z"
        },
        "trusted": true,
        "id": "xBCQ15l2YH2k",
        "outputId": "559981ec-a3fb-41af-ad22-e77789c1b023"
      },
      "execution_count": null,
      "outputs": [
        {
          "execution_count": 139,
          "output_type": "execute_result",
          "data": {
            "text/plain": "SkinCancer\nNo     289976\nYes     29819\nName: count, dtype: int64"
          },
          "metadata": {}
        }
      ]
    },
    {
      "cell_type": "code",
      "source": [
        "data.drop(\"SkinCancer\", inplace=True, axis = 1)"
      ],
      "metadata": {
        "execution": {
          "iopub.status.busy": "2024-06-11T16:44:17.849431Z",
          "iopub.execute_input": "2024-06-11T16:44:17.849804Z",
          "iopub.status.idle": "2024-06-11T16:44:17.923742Z",
          "shell.execute_reply.started": "2024-06-11T16:44:17.849775Z",
          "shell.execute_reply": "2024-06-11T16:44:17.922397Z"
        },
        "trusted": true,
        "id": "XIdbRqXZYH2k"
      },
      "execution_count": null,
      "outputs": []
    },
    {
      "cell_type": "markdown",
      "source": [
        "## Data Exploration"
      ],
      "metadata": {
        "id": "YdTONTOVYH2k"
      }
    },
    {
      "cell_type": "code",
      "source": [
        "data[\"HeartDisease\"] = data[\"HeartDisease\"].map({'Yes':1,'No':0})"
      ],
      "metadata": {
        "execution": {
          "iopub.status.busy": "2024-06-11T16:44:17.925114Z",
          "iopub.execute_input": "2024-06-11T16:44:17.92549Z",
          "iopub.status.idle": "2024-06-11T16:44:17.961517Z",
          "shell.execute_reply.started": "2024-06-11T16:44:17.925458Z",
          "shell.execute_reply": "2024-06-11T16:44:17.960014Z"
        },
        "trusted": true,
        "id": "PMkOOemLYH2k"
      },
      "execution_count": null,
      "outputs": []
    },
    {
      "cell_type": "code",
      "source": [
        "data[\"Smoking\"].value_counts()"
      ],
      "metadata": {
        "execution": {
          "iopub.status.busy": "2024-06-11T16:44:17.963233Z",
          "iopub.execute_input": "2024-06-11T16:44:17.963621Z",
          "iopub.status.idle": "2024-06-11T16:44:17.995744Z",
          "shell.execute_reply.started": "2024-06-11T16:44:17.96356Z",
          "shell.execute_reply": "2024-06-11T16:44:17.994796Z"
        },
        "trusted": true,
        "id": "HyvC2mtTYH2l",
        "outputId": "59fe9c06-5a78-4eff-f76d-bc6ea9f84321"
      },
      "execution_count": null,
      "outputs": [
        {
          "execution_count": 142,
          "output_type": "execute_result",
          "data": {
            "text/plain": "Smoking\nNo     187887\nYes    131908\nName: count, dtype: int64"
          },
          "metadata": {}
        }
      ]
    },
    {
      "cell_type": "code",
      "source": [],
      "metadata": {
        "id": "7C44FKrmYH2l"
      },
      "execution_count": null,
      "outputs": []
    },
    {
      "cell_type": "code",
      "source": [
        "data[\"Smoking\"] = data[\"Smoking\"].map({'Yes':1,'No':0})\n",
        "data[\"AlcoholDrinking\"] = data[\"AlcoholDrinking\"].map({'Yes':1,'No':0})\n",
        "data[\"Stroke\"] = data[\"Stroke\"].map({'Yes':1,'No':0})\n",
        "data[\"DiffWalking\"] = data[\"DiffWalking\"].map({'Yes':1,'No':0})\n",
        "data[\"Sex\"] = data[\"Sex\"].map({'Male':1,'Female':0})\n",
        "data[\"PhysicalActivity\"] = data[\"PhysicalActivity\"].map({'Yes':1,'No':0})\n",
        "data[\"Asthma\"] = data[\"Asthma\"].map({'Yes':1,'No':0})\n",
        "data[\"KidneyDisease\"] = data[\"KidneyDisease\"].map({'Yes':1,'No':0})\n",
        "data[\"Diabetic\"] = data[\"Diabetic\"].map({'No':0,'Yes':1,'No, borderline diabetes':0,'Yes (during pregnancy)':1})\n",
        "data[\"GenHealth\"] = data[\"GenHealth\"].map({'Excellent':5,\"Very good\":4,\"Good\":3,\"Fair\":2,\"Poor\":1})"
      ],
      "metadata": {
        "execution": {
          "iopub.status.busy": "2024-06-11T16:44:17.997906Z",
          "iopub.execute_input": "2024-06-11T16:44:17.998829Z",
          "iopub.status.idle": "2024-06-11T16:44:18.261147Z",
          "shell.execute_reply.started": "2024-06-11T16:44:17.998796Z",
          "shell.execute_reply": "2024-06-11T16:44:18.259991Z"
        },
        "trusted": true,
        "id": "s7_ssArNYH2l"
      },
      "execution_count": null,
      "outputs": []
    },
    {
      "cell_type": "code",
      "source": [
        "data.info()"
      ],
      "metadata": {
        "execution": {
          "iopub.status.busy": "2024-06-11T16:44:18.262783Z",
          "iopub.execute_input": "2024-06-11T16:44:18.263241Z",
          "iopub.status.idle": "2024-06-11T16:44:18.314114Z",
          "shell.execute_reply.started": "2024-06-11T16:44:18.263198Z",
          "shell.execute_reply": "2024-06-11T16:44:18.312779Z"
        },
        "trusted": true,
        "id": "eXWHoGEkYH2l",
        "outputId": "9d0613c2-a060-4677-ba23-ea13fe0d12c7"
      },
      "execution_count": null,
      "outputs": [
        {
          "name": "stdout",
          "text": "<class 'pandas.core.frame.DataFrame'>\nRangeIndex: 319795 entries, 0 to 319794\nData columns (total 17 columns):\n #   Column            Non-Null Count   Dtype  \n---  ------            --------------   -----  \n 0   HeartDisease      319795 non-null  int64  \n 1   BMI               319795 non-null  float64\n 2   Smoking           319795 non-null  int64  \n 3   AlcoholDrinking   319795 non-null  int64  \n 4   Stroke            319795 non-null  int64  \n 5   PhysicalHealth    319795 non-null  float64\n 6   MentalHealth      319795 non-null  float64\n 7   DiffWalking       319795 non-null  int64  \n 8   Sex               319795 non-null  int64  \n 9   AgeCategory       319795 non-null  object \n 10  Race              319795 non-null  object \n 11  Diabetic          319795 non-null  int64  \n 12  PhysicalActivity  319795 non-null  int64  \n 13  GenHealth         319795 non-null  int64  \n 14  SleepTime         319795 non-null  float64\n 15  Asthma            319795 non-null  int64  \n 16  KidneyDisease     319795 non-null  int64  \ndtypes: float64(4), int64(11), object(2)\nmemory usage: 41.5+ MB\n",
          "output_type": "stream"
        }
      ]
    },
    {
      "cell_type": "code",
      "source": [
        "num_col = list(data.columns)"
      ],
      "metadata": {
        "execution": {
          "iopub.status.busy": "2024-06-11T16:44:18.315915Z",
          "iopub.execute_input": "2024-06-11T16:44:18.316459Z",
          "iopub.status.idle": "2024-06-11T16:44:18.321878Z",
          "shell.execute_reply.started": "2024-06-11T16:44:18.316402Z",
          "shell.execute_reply": "2024-06-11T16:44:18.320554Z"
        },
        "trusted": true,
        "id": "iDC7QwrdYH2l"
      },
      "execution_count": null,
      "outputs": []
    },
    {
      "cell_type": "code",
      "source": [
        "num_col.remove(\"AgeCategory\")\n",
        "num_col.remove(\"Race\")"
      ],
      "metadata": {
        "execution": {
          "iopub.status.busy": "2024-06-11T16:44:18.327405Z",
          "iopub.execute_input": "2024-06-11T16:44:18.327883Z",
          "iopub.status.idle": "2024-06-11T16:44:18.334759Z",
          "shell.execute_reply.started": "2024-06-11T16:44:18.327838Z",
          "shell.execute_reply": "2024-06-11T16:44:18.333138Z"
        },
        "trusted": true,
        "id": "2NwyRNziYH2l"
      },
      "execution_count": null,
      "outputs": []
    },
    {
      "cell_type": "code",
      "source": [
        "num_col"
      ],
      "metadata": {
        "execution": {
          "iopub.status.busy": "2024-06-11T16:44:18.336137Z",
          "iopub.execute_input": "2024-06-11T16:44:18.336511Z",
          "iopub.status.idle": "2024-06-11T16:44:18.352929Z",
          "shell.execute_reply.started": "2024-06-11T16:44:18.336479Z",
          "shell.execute_reply": "2024-06-11T16:44:18.351504Z"
        },
        "trusted": true,
        "id": "19q5moRfYH2l",
        "outputId": "36f169fd-7bf1-4930-eb9e-247efb7efdd2"
      },
      "execution_count": null,
      "outputs": [
        {
          "execution_count": 147,
          "output_type": "execute_result",
          "data": {
            "text/plain": "['HeartDisease',\n 'BMI',\n 'Smoking',\n 'AlcoholDrinking',\n 'Stroke',\n 'PhysicalHealth',\n 'MentalHealth',\n 'DiffWalking',\n 'Sex',\n 'Diabetic',\n 'PhysicalActivity',\n 'GenHealth',\n 'SleepTime',\n 'Asthma',\n 'KidneyDisease']"
          },
          "metadata": {}
        }
      ]
    },
    {
      "cell_type": "code",
      "source": [
        "plt.figure(figsize=(16,6))\n",
        "mask = np.triu(np.ones_like(data[num_col].corr()))\n",
        "\n",
        "heatmap = sns.heatmap(data[num_col].corr(), mask=mask, vmin=-1, vmax=1, annot=True, cmap=\"BrBG\")\n",
        "\n",
        "heatmap.set_title(\"Correlation Matrix\")"
      ],
      "metadata": {
        "execution": {
          "iopub.status.busy": "2024-06-11T16:44:18.354396Z",
          "iopub.execute_input": "2024-06-11T16:44:18.355161Z",
          "iopub.status.idle": "2024-06-11T16:44:19.80174Z",
          "shell.execute_reply.started": "2024-06-11T16:44:18.355123Z",
          "shell.execute_reply": "2024-06-11T16:44:19.800494Z"
        },
        "trusted": true,
        "id": "42u9g_7nYH2l",
        "outputId": "0d1e4dc6-fa0a-4075-eed3-c08d7efe5723"
      },
      "execution_count": null,
      "outputs": [
        {
          "execution_count": 148,
          "output_type": "execute_result",
          "data": {
            "text/plain": "Text(0.5, 1.0, 'Correlation Matrix')"
          },
          "metadata": {}
        },
        {
          "output_type": "display_data",
          "data": {
            "text/plain": "<Figure size 1600x600 with 2 Axes>",
            "image/png": "[encoded data removed]"
          },
          "metadata": {}
        }
      ]
    },
    {
      "cell_type": "code",
      "source": [
        "data.to_csv(\"cleaned_data.csv\")"
      ],
      "metadata": {
        "execution": {
          "iopub.status.busy": "2024-06-11T16:44:19.803368Z",
          "iopub.execute_input": "2024-06-11T16:44:19.803819Z",
          "iopub.status.idle": "2024-06-11T16:44:21.865836Z",
          "shell.execute_reply.started": "2024-06-11T16:44:19.803785Z",
          "shell.execute_reply": "2024-06-11T16:44:21.864257Z"
        },
        "trusted": true,
        "id": "qKNvIatUYH2l"
      },
      "execution_count": null,
      "outputs": []
    },
    {
      "cell_type": "code",
      "source": [
        "from sklearn.model_selection import train_test_split\n",
        "from sklearn.preprocessing import StandardScaler, LabelEncoder\n",
        "from sklearn.linear_model import LogisticRegression\n",
        "from sklearn.ensemble import RandomForestClassifier\n",
        "from sklearn.metrics import accuracy_score, classification_report"
      ],
      "metadata": {
        "execution": {
          "iopub.status.busy": "2024-06-11T16:44:21.867977Z",
          "iopub.execute_input": "2024-06-11T16:44:21.868356Z",
          "iopub.status.idle": "2024-06-11T16:44:21.875288Z",
          "shell.execute_reply.started": "2024-06-11T16:44:21.868325Z",
          "shell.execute_reply": "2024-06-11T16:44:21.873606Z"
        },
        "trusted": true,
        "id": "H2Z0eu4EYH2l"
      },
      "execution_count": null,
      "outputs": []
    },
    {
      "cell_type": "code",
      "source": [
        "# Encode categorical variables\n",
        "categorical_columns = ['Sex', 'AgeCategory', 'Race', 'GenHealth']\n",
        "data_encoded = pd.get_dummies(data, columns=categorical_columns, drop_first=True)\n"
      ],
      "metadata": {
        "execution": {
          "iopub.status.busy": "2024-06-11T16:44:21.877476Z",
          "iopub.execute_input": "2024-06-11T16:44:21.877974Z",
          "iopub.status.idle": "2024-06-11T16:44:22.04679Z",
          "shell.execute_reply.started": "2024-06-11T16:44:21.877938Z",
          "shell.execute_reply": "2024-06-11T16:44:22.045551Z"
        },
        "trusted": true,
        "id": "3U-8C0cXYH2l"
      },
      "execution_count": null,
      "outputs": []
    },
    {
      "cell_type": "code",
      "source": [
        "# Handling missing values (if any)\n",
        "data_encoded = data_encoded.dropna()"
      ],
      "metadata": {
        "execution": {
          "iopub.status.busy": "2024-06-11T16:44:22.048267Z",
          "iopub.execute_input": "2024-06-11T16:44:22.04869Z",
          "iopub.status.idle": "2024-06-11T16:44:22.10514Z",
          "shell.execute_reply.started": "2024-06-11T16:44:22.048638Z",
          "shell.execute_reply": "2024-06-11T16:44:22.10387Z"
        },
        "trusted": true,
        "id": "x7sbhUzMYH2l"
      },
      "execution_count": null,
      "outputs": []
    },
    {
      "cell_type": "code",
      "source": [
        "# Features and target variable for Heart Disease\n",
        "X_heart = data_encoded.drop(columns=['HeartDisease'])\n",
        "y_heart = data_encoded['HeartDisease']"
      ],
      "metadata": {
        "execution": {
          "iopub.status.busy": "2024-06-11T16:44:22.106654Z",
          "iopub.execute_input": "2024-06-11T16:44:22.107085Z",
          "iopub.status.idle": "2024-06-11T16:44:22.126369Z",
          "shell.execute_reply.started": "2024-06-11T16:44:22.10705Z",
          "shell.execute_reply": "2024-06-11T16:44:22.12508Z"
        },
        "trusted": true,
        "id": "NbsxmLdCYH2l"
      },
      "execution_count": null,
      "outputs": []
    },
    {
      "cell_type": "code",
      "source": [
        "# Splitting the data into training and testing sets\n",
        "X_train_heart, X_test_heart, y_train_heart, y_test_heart = train_test_split(X_heart, y_heart, test_size=0.2, random_state=42)"
      ],
      "metadata": {
        "execution": {
          "iopub.status.busy": "2024-06-11T16:44:22.128143Z",
          "iopub.execute_input": "2024-06-11T16:44:22.128651Z",
          "iopub.status.idle": "2024-06-11T16:44:22.283194Z",
          "shell.execute_reply.started": "2024-06-11T16:44:22.128606Z",
          "shell.execute_reply": "2024-06-11T16:44:22.281922Z"
        },
        "trusted": true,
        "id": "S4vVorcUYH2l"
      },
      "execution_count": null,
      "outputs": []
    },
    {
      "cell_type": "code",
      "source": [
        "# Normalizing the data\n",
        "scaler = StandardScaler()\n",
        "X_train_heart = scaler.fit_transform(X_train_heart)\n",
        "X_test_heart = scaler.transform(X_test_heart)"
      ],
      "metadata": {
        "execution": {
          "iopub.status.busy": "2024-06-11T16:44:22.284916Z",
          "iopub.execute_input": "2024-06-11T16:44:22.285311Z",
          "iopub.status.idle": "2024-06-11T16:44:23.092333Z",
          "shell.execute_reply.started": "2024-06-11T16:44:22.285278Z",
          "shell.execute_reply": "2024-06-11T16:44:23.091037Z"
        },
        "trusted": true,
        "id": "xn6BLE4gYH2l"
      },
      "execution_count": null,
      "outputs": []
    },
    {
      "cell_type": "code",
      "source": [
        "# Logistic Regression for Heart Disease\n",
        "lr_heart = LogisticRegression(max_iter=1000)\n",
        "lr_heart.fit(X_train_heart, y_train_heart)\n",
        "y_pred_lr_heart = lr_heart.predict(X_test_heart)"
      ],
      "metadata": {
        "execution": {
          "iopub.status.busy": "2024-06-11T16:44:23.094064Z",
          "iopub.execute_input": "2024-06-11T16:44:23.095107Z",
          "iopub.status.idle": "2024-06-11T16:44:25.252646Z",
          "shell.execute_reply.started": "2024-06-11T16:44:23.095058Z",
          "shell.execute_reply": "2024-06-11T16:44:25.25104Z"
        },
        "trusted": true,
        "id": "6EFTUWJ1YH2l"
      },
      "execution_count": null,
      "outputs": []
    },
    {
      "cell_type": "code",
      "source": [
        "# Random Forest for Heart Disease\n",
        "rf_heart = RandomForestClassifier(n_estimators=100, random_state=42)\n",
        "rf_heart.fit(X_train_heart, y_train_heart)\n",
        "y_pred_rf_heart = rf_heart.predict(X_test_heart)"
      ],
      "metadata": {
        "execution": {
          "iopub.status.busy": "2024-06-11T16:44:25.255233Z",
          "iopub.execute_input": "2024-06-11T16:44:25.257008Z",
          "iopub.status.idle": "2024-06-11T16:45:32.334443Z",
          "shell.execute_reply.started": "2024-06-11T16:44:25.256953Z",
          "shell.execute_reply": "2024-06-11T16:45:32.332784Z"
        },
        "trusted": true,
        "id": "xWjEWvoDYH2l"
      },
      "execution_count": null,
      "outputs": []
    },
    {
      "cell_type": "code",
      "source": [
        "# Evaluation\n",
        "accuracy_lr_heart = accuracy_score(y_test_heart, y_pred_lr_heart)\n",
        "accuracy_rf_heart = accuracy_score(y_test_heart, y_pred_rf_heart)"
      ],
      "metadata": {
        "execution": {
          "iopub.status.busy": "2024-06-11T16:45:32.33619Z",
          "iopub.execute_input": "2024-06-11T16:45:32.336626Z",
          "iopub.status.idle": "2024-06-11T16:45:32.357449Z",
          "shell.execute_reply.started": "2024-06-11T16:45:32.33659Z",
          "shell.execute_reply": "2024-06-11T16:45:32.355976Z"
        },
        "trusted": true,
        "id": "X4apbcc9YH2m"
      },
      "execution_count": null,
      "outputs": []
    },
    {
      "cell_type": "code",
      "source": [
        "# Classification reports\n",
        "report_lr_heart = classification_report(y_test_heart, y_pred_lr_heart)\n",
        "report_rf_heart = classification_report(y_test_heart, y_pred_rf_heart)\n",
        "\n",
        "accuracy_lr_heart, accuracy_rf_heart, report_lr_heart, report_rf_heart"
      ],
      "metadata": {
        "execution": {
          "iopub.status.busy": "2024-06-11T16:45:32.359441Z",
          "iopub.execute_input": "2024-06-11T16:45:32.36111Z",
          "iopub.status.idle": "2024-06-11T16:45:32.588217Z",
          "shell.execute_reply.started": "2024-06-11T16:45:32.361063Z",
          "shell.execute_reply": "2024-06-11T16:45:32.586762Z"
        },
        "trusted": true,
        "id": "fyXpFPQNYH2m",
        "outputId": "762e4205-d61d-43c7-f525-a115c250b3c5"
      },
      "execution_count": null,
      "outputs": [
        {
          "execution_count": 159,
          "output_type": "execute_result",
          "data": {
            "text/plain": "(0.9136478056254789,\n 0.9008739974045873,\n '              precision    recall  f1-score   support\\n\\n           0       0.92      0.99      0.95     58367\\n           1       0.53      0.10      0.17      5592\\n\\n    accuracy                           0.91     63959\\n   macro avg       0.73      0.55      0.56     63959\\nweighted avg       0.89      0.91      0.89     63959\\n',\n '              precision    recall  f1-score   support\\n\\n           0       0.92      0.98      0.95     58367\\n           1       0.32      0.12      0.18      5592\\n\\n    accuracy                           0.90     63959\\n   macro avg       0.62      0.55      0.56     63959\\nweighted avg       0.87      0.90      0.88     63959\\n')"
          },
          "metadata": {}
        }
      ]
    },
    {
      "cell_type": "code",
      "source": [
        "X_kidney = data_encoded.drop(columns=['KidneyDisease'])\n",
        "y_kidney = data_encoded['KidneyDisease']"
      ],
      "metadata": {
        "execution": {
          "iopub.status.busy": "2024-06-11T16:45:32.589966Z",
          "iopub.execute_input": "2024-06-11T16:45:32.590359Z",
          "iopub.status.idle": "2024-06-11T16:45:32.614181Z",
          "shell.execute_reply.started": "2024-06-11T16:45:32.590325Z",
          "shell.execute_reply": "2024-06-11T16:45:32.612779Z"
        },
        "trusted": true,
        "id": "-dHA3PQ-YH2m"
      },
      "execution_count": null,
      "outputs": []
    },
    {
      "cell_type": "code",
      "source": [
        "# Splitting the data into training and testing sets\n",
        "X_train_kidney, X_test_kidney, y_train_kidney, y_test_kidney = train_test_split(X_kidney, y_kidney, test_size=0.2, random_state=42)"
      ],
      "metadata": {
        "execution": {
          "iopub.status.busy": "2024-06-11T16:45:32.61623Z",
          "iopub.execute_input": "2024-06-11T16:45:32.616747Z",
          "iopub.status.idle": "2024-06-11T16:45:32.716123Z",
          "shell.execute_reply.started": "2024-06-11T16:45:32.6167Z",
          "shell.execute_reply": "2024-06-11T16:45:32.714747Z"
        },
        "trusted": true,
        "id": "FEJTad1wYH2m"
      },
      "execution_count": null,
      "outputs": []
    },
    {
      "cell_type": "code",
      "source": [
        "# Normalizing the data\n",
        "X_train_kidney = scaler.fit_transform(X_train_kidney)\n",
        "X_test_kidney = scaler.transform(X_test_kidney)\n"
      ],
      "metadata": {
        "execution": {
          "iopub.status.busy": "2024-06-11T16:45:32.717841Z",
          "iopub.execute_input": "2024-06-11T16:45:32.718237Z",
          "iopub.status.idle": "2024-06-11T16:45:33.591995Z",
          "shell.execute_reply.started": "2024-06-11T16:45:32.718203Z",
          "shell.execute_reply": "2024-06-11T16:45:33.590538Z"
        },
        "trusted": true,
        "id": "RZhURm3sYH2m"
      },
      "execution_count": null,
      "outputs": []
    },
    {
      "cell_type": "code",
      "source": [
        "# Logistic Regression for Kidney Disease\n",
        "lr_kidney = LogisticRegression(max_iter=1000)\n",
        "lr_kidney.fit(X_train_kidney, y_train_kidney)\n",
        "y_pred_lr_kidney = lr_kidney.predict(X_test_kidney)"
      ],
      "metadata": {
        "execution": {
          "iopub.status.busy": "2024-06-11T16:45:33.593818Z",
          "iopub.execute_input": "2024-06-11T16:45:33.594292Z",
          "iopub.status.idle": "2024-06-11T16:45:34.773669Z",
          "shell.execute_reply.started": "2024-06-11T16:45:33.594247Z",
          "shell.execute_reply": "2024-06-11T16:45:34.772294Z"
        },
        "trusted": true,
        "id": "UYuy5N5YYH2m"
      },
      "execution_count": null,
      "outputs": []
    },
    {
      "cell_type": "code",
      "source": [
        "# Random Forest for Kidney Disease\n",
        "rf_kidney = RandomForestClassifier(n_estimators=100, random_state=42)\n",
        "rf_kidney.fit(X_train_kidney, y_train_kidney)\n",
        "y_pred_rf_kidney = rf_kidney.predict(X_test_kidney)"
      ],
      "metadata": {
        "execution": {
          "iopub.status.busy": "2024-06-11T16:45:34.775736Z",
          "iopub.execute_input": "2024-06-11T16:45:34.776732Z",
          "iopub.status.idle": "2024-06-11T16:46:39.201603Z",
          "shell.execute_reply.started": "2024-06-11T16:45:34.776652Z",
          "shell.execute_reply": "2024-06-11T16:46:39.199709Z"
        },
        "trusted": true,
        "id": "Ic-3wlCrYH2n"
      },
      "execution_count": null,
      "outputs": []
    },
    {
      "cell_type": "code",
      "source": [
        "# Evaluation\n",
        "accuracy_lr_kidney = accuracy_score(y_test_kidney, y_pred_lr_kidney)\n",
        "accuracy_rf_kidney = accuracy_score(y_test_kidney, y_pred_rf_kidney)"
      ],
      "metadata": {
        "execution": {
          "iopub.status.busy": "2024-06-11T16:46:39.203322Z",
          "iopub.execute_input": "2024-06-11T16:46:39.203742Z",
          "iopub.status.idle": "2024-06-11T16:46:39.222527Z",
          "shell.execute_reply.started": "2024-06-11T16:46:39.2037Z",
          "shell.execute_reply": "2024-06-11T16:46:39.221022Z"
        },
        "trusted": true,
        "id": "E6BW_F_cYH2n"
      },
      "execution_count": null,
      "outputs": []
    },
    {
      "cell_type": "code",
      "source": [
        "# Classification reports\n",
        "report_lr_kidney = classification_report(y_test_kidney, y_pred_lr_kidney)\n",
        "report_rf_kidney = classification_report(y_test_kidney, y_pred_rf_kidney)"
      ],
      "metadata": {
        "execution": {
          "iopub.status.busy": "2024-06-11T16:46:39.224083Z",
          "iopub.execute_input": "2024-06-11T16:46:39.224441Z",
          "iopub.status.idle": "2024-06-11T16:46:39.429128Z",
          "shell.execute_reply.started": "2024-06-11T16:46:39.224403Z",
          "shell.execute_reply": "2024-06-11T16:46:39.427809Z"
        },
        "trusted": true,
        "id": "aZA8F8A5YH2n"
      },
      "execution_count": null,
      "outputs": []
    },
    {
      "cell_type": "code",
      "source": [
        "# Display Results\n",
        "print(f\"Heart Disease Prediction - Logistic Regression Accuracy: {accuracy_lr_heart}\")\n",
        "print(f\"Heart Disease Prediction - Random Forest Accuracy: {accuracy_rf_heart}\")\n",
        "print(f\"Classification Report for Heart Disease (Logistic Regression):\\n{report_lr_heart}\")\n",
        "print(f\"Classification Report for Heart Disease (Random Forest):\\n{report_rf_heart}\")\n",
        "print(f\"Kidney Disease Prediction - Logistic Regression Accuracy: {accuracy_lr_kidney}\")\n",
        "print(f\"Kidney Disease Prediction - Random Forest Accuracy: {accuracy_rf_kidney}\")\n",
        "print(f\"Classification Report for Kidney Disease (Logistic Regression):\\n{report_lr_kidney}\")\n",
        "print(f\"Classification Report for Kidney Disease (Random Forest):\\n{report_rf_kidney}\")"
      ],
      "metadata": {
        "execution": {
          "iopub.status.busy": "2024-06-11T16:46:39.430643Z",
          "iopub.execute_input": "2024-06-11T16:46:39.431085Z",
          "iopub.status.idle": "2024-06-11T16:46:39.440767Z",
          "shell.execute_reply.started": "2024-06-11T16:46:39.43105Z",
          "shell.execute_reply": "2024-06-11T16:46:39.438921Z"
        },
        "trusted": true,
        "id": "0SYu6W9dYH2n",
        "outputId": "fad15f7b-a9ee-44b8-89f9-38e5a54a5738"
      },
      "execution_count": null,
      "outputs": [
        {
          "name": "stdout",
          "text": "Heart Disease Prediction - Logistic Regression Accuracy: 0.9136478056254789\nHeart Disease Prediction - Random Forest Accuracy: 0.9008739974045873\nClassification Report for Heart Disease (Logistic Regression):\n              precision    recall  f1-score   support\n\n           0       0.92      0.99      0.95     58367\n           1       0.53      0.10      0.17      5592\n\n    accuracy                           0.91     63959\n   macro avg       0.73      0.55      0.56     63959\nweighted avg       0.89      0.91      0.89     63959\n\nClassification Report for Heart Disease (Random Forest):\n              precision    recall  f1-score   support\n\n           0       0.92      0.98      0.95     58367\n           1       0.32      0.12      0.18      5592\n\n    accuracy                           0.90     63959\n   macro avg       0.62      0.55      0.56     63959\nweighted avg       0.87      0.90      0.88     63959\n\nKidney Disease Prediction - Logistic Regression Accuracy: 0.9632420769555496\nKidney Disease Prediction - Random Forest Accuracy: 0.9604121390265639\nClassification Report for Kidney Disease (Logistic Regression):\n              precision    recall  f1-score   support\n\n           0       0.96      1.00      0.98     61611\n           1       0.36      0.00      0.00      2348\n\n    accuracy                           0.96     63959\n   macro avg       0.66      0.50      0.49     63959\nweighted avg       0.94      0.96      0.95     63959\n\nClassification Report for Kidney Disease (Random Forest):\n              precision    recall  f1-score   support\n\n           0       0.96      1.00      0.98     61611\n           1       0.11      0.01      0.02      2348\n\n    accuracy                           0.96     63959\n   macro avg       0.54      0.50      0.50     63959\nweighted avg       0.93      0.96      0.94     63959\n\n",
          "output_type": "stream"
        }
      ]
    },
    {
      "cell_type": "code",
      "source": [
        "# Encode categorical variables\n",
        "categorical_columns = ['Sex', 'AgeCategory', 'Race']\n",
        "data_encoded = pd.get_dummies(data, columns=categorical_columns, drop_first=True)"
      ],
      "metadata": {
        "execution": {
          "iopub.status.busy": "2024-06-11T16:46:39.44302Z",
          "iopub.execute_input": "2024-06-11T16:46:39.443559Z",
          "iopub.status.idle": "2024-06-11T16:46:39.622689Z",
          "shell.execute_reply.started": "2024-06-11T16:46:39.443512Z",
          "shell.execute_reply": "2024-06-11T16:46:39.620824Z"
        },
        "trusted": true,
        "id": "PqAbqSsYYH2o"
      },
      "execution_count": null,
      "outputs": []
    },
    {
      "cell_type": "code",
      "source": [
        "# Features and target variable for GenHealth\n",
        "X_genhealth = data_encoded.drop(columns=['GenHealth'])\n",
        "y_genhealth = data_encoded['GenHealth']"
      ],
      "metadata": {
        "execution": {
          "iopub.status.busy": "2024-06-11T16:46:39.625449Z",
          "iopub.execute_input": "2024-06-11T16:46:39.625873Z",
          "iopub.status.idle": "2024-06-11T16:46:39.64606Z",
          "shell.execute_reply.started": "2024-06-11T16:46:39.625837Z",
          "shell.execute_reply": "2024-06-11T16:46:39.644306Z"
        },
        "trusted": true,
        "id": "yUgmqY5JYH2o"
      },
      "execution_count": null,
      "outputs": []
    },
    {
      "cell_type": "code",
      "source": [
        "# Splitting the data into training and testing sets\n",
        "X_train_genhealth, X_test_genhealth, y_train_genhealth, y_test_genhealth = train_test_split(X_genhealth, y_genhealth, test_size=0.2, random_state=42)"
      ],
      "metadata": {
        "execution": {
          "iopub.status.busy": "2024-06-11T16:46:39.647941Z",
          "iopub.execute_input": "2024-06-11T16:46:39.648355Z",
          "iopub.status.idle": "2024-06-11T16:46:39.73198Z",
          "shell.execute_reply.started": "2024-06-11T16:46:39.64832Z",
          "shell.execute_reply": "2024-06-11T16:46:39.730483Z"
        },
        "trusted": true,
        "id": "g4ejnH2YYH2o"
      },
      "execution_count": null,
      "outputs": []
    },
    {
      "cell_type": "code",
      "source": [
        "# Normalizing the data\n",
        "scaler = StandardScaler()\n",
        "X_train_genhealth = scaler.fit_transform(X_train_genhealth)\n",
        "X_test_genhealth = scaler.transform(X_test_genhealth)"
      ],
      "metadata": {
        "execution": {
          "iopub.status.busy": "2024-06-11T16:46:39.733944Z",
          "iopub.execute_input": "2024-06-11T16:46:39.734353Z",
          "iopub.status.idle": "2024-06-11T16:46:40.350176Z",
          "shell.execute_reply.started": "2024-06-11T16:46:39.734317Z",
          "shell.execute_reply": "2024-06-11T16:46:40.348841Z"
        },
        "trusted": true,
        "id": "bKlznmD8YH2o"
      },
      "execution_count": null,
      "outputs": []
    },
    {
      "cell_type": "code",
      "source": [
        "# Logistic Regression for GenHealth\n",
        "lr_genhealth = LogisticRegression(max_iter=1000, multi_class='multinomial')\n",
        "lr_genhealth.fit(X_train_genhealth, y_train_genhealth)\n",
        "y_pred_lr_genhealth = lr_genhealth.predict(X_test_genhealth)"
      ],
      "metadata": {
        "execution": {
          "iopub.status.busy": "2024-06-11T16:46:40.352267Z",
          "iopub.execute_input": "2024-06-11T16:46:40.352729Z",
          "iopub.status.idle": "2024-06-11T16:46:48.644982Z",
          "shell.execute_reply.started": "2024-06-11T16:46:40.352653Z",
          "shell.execute_reply": "2024-06-11T16:46:48.643556Z"
        },
        "trusted": true,
        "id": "xYOc5c07YH2o"
      },
      "execution_count": null,
      "outputs": []
    },
    {
      "cell_type": "markdown",
      "source": [],
      "metadata": {
        "id": "mBsp9EDQYH2o"
      }
    },
    {
      "cell_type": "code",
      "source": [
        "# Random Forest for GenHealth\n",
        "rf_genhealth = RandomForestClassifier(n_estimators=100, random_state=42)\n",
        "rf_genhealth.fit(X_train_genhealth, y_train_genhealth)\n",
        "y_pred_rf_genhealth = rf_genhealth.predict(X_test_genhealth)"
      ],
      "metadata": {
        "execution": {
          "iopub.status.busy": "2024-06-11T16:46:48.657211Z",
          "iopub.execute_input": "2024-06-11T16:46:48.659298Z",
          "iopub.status.idle": "2024-06-11T16:48:08.550262Z",
          "shell.execute_reply.started": "2024-06-11T16:46:48.659221Z",
          "shell.execute_reply": "2024-06-11T16:48:08.548991Z"
        },
        "trusted": true,
        "id": "T2v_QdVsYH2o"
      },
      "execution_count": null,
      "outputs": []
    },
    {
      "cell_type": "code",
      "source": [
        "# Evaluation\n",
        "accuracy_lr_genhealth = accuracy_score(y_test_genhealth, y_pred_lr_genhealth)\n",
        "accuracy_rf_genhealth = accuracy_score(y_test_genhealth, y_pred_rf_genhealth)"
      ],
      "metadata": {
        "execution": {
          "iopub.status.busy": "2024-06-11T16:48:08.551652Z",
          "iopub.execute_input": "2024-06-11T16:48:08.552011Z",
          "iopub.status.idle": "2024-06-11T16:48:08.568475Z",
          "shell.execute_reply.started": "2024-06-11T16:48:08.551983Z",
          "shell.execute_reply": "2024-06-11T16:48:08.567248Z"
        },
        "trusted": true,
        "id": "76QGzTTPYH2o"
      },
      "execution_count": null,
      "outputs": []
    },
    {
      "cell_type": "code",
      "source": [
        "# Classification reports\n",
        "report_lr_genhealth = classification_report(y_test_genhealth, y_pred_lr_genhealth)\n",
        "report_rf_genhealth = classification_report(y_test_genhealth, y_pred_rf_genhealth)\n"
      ],
      "metadata": {
        "execution": {
          "iopub.status.busy": "2024-06-11T16:48:08.57011Z",
          "iopub.execute_input": "2024-06-11T16:48:08.570484Z",
          "iopub.status.idle": "2024-06-11T16:48:08.832646Z",
          "shell.execute_reply.started": "2024-06-11T16:48:08.57045Z",
          "shell.execute_reply": "2024-06-11T16:48:08.831043Z"
        },
        "trusted": true,
        "id": "IOUMyRKaYH2o"
      },
      "execution_count": null,
      "outputs": []
    },
    {
      "cell_type": "code",
      "source": [
        "# Display results\n",
        "print(f\"GenHealth Prediction - Logistic Regression Accuracy: {accuracy_lr_genhealth}\")\n",
        "print(f\"GenHealth Prediction - Random Forest Accuracy: {accuracy_rf_genhealth}\")\n",
        "print(f\"Classification Report for GenHealth (Logistic Regression):\\n{report_lr_genhealth}\")\n",
        "print(f\"Classification Report for GenHealth (Random Forest):\\n{report_rf_genhealth}\")"
      ],
      "metadata": {
        "execution": {
          "iopub.status.busy": "2024-06-11T16:48:08.834139Z",
          "iopub.execute_input": "2024-06-11T16:48:08.8345Z",
          "iopub.status.idle": "2024-06-11T16:48:08.84179Z",
          "shell.execute_reply.started": "2024-06-11T16:48:08.834472Z",
          "shell.execute_reply": "2024-06-11T16:48:08.84033Z"
        },
        "trusted": true,
        "id": "ZyfJw4lPYH2o",
        "outputId": "e490dfe7-31d8-43e3-d0e4-79cdcab515da"
      },
      "execution_count": null,
      "outputs": [
        {
          "name": "stdout",
          "text": "GenHealth Prediction - Logistic Regression Accuracy: 0.45219593802279584\nGenHealth Prediction - Random Forest Accuracy: 0.4010694351068653\nClassification Report for GenHealth (Logistic Regression):\n              precision    recall  f1-score   support\n\n           1       0.53      0.37      0.44      2201\n           2       0.44      0.26      0.33      6963\n           3       0.45      0.39      0.42     18698\n           4       0.45      0.70      0.55     22776\n           5       0.46      0.23      0.31     13321\n\n    accuracy                           0.45     63959\n   macro avg       0.47      0.39      0.41     63959\nweighted avg       0.45      0.45      0.43     63959\n\nClassification Report for GenHealth (Random Forest):\n              precision    recall  f1-score   support\n\n           1       0.47      0.39      0.43      2201\n           2       0.36      0.31      0.33      6963\n           3       0.39      0.42      0.40     18698\n           4       0.44      0.46      0.45     22776\n           5       0.37      0.31      0.34     13321\n\n    accuracy                           0.40     63959\n   macro avg       0.40      0.38      0.39     63959\nweighted avg       0.40      0.40      0.40     63959\n\n",
          "output_type": "stream"
        }
      ]
    },
    {
      "cell_type": "code",
      "source": [
        "import pickle"
      ],
      "metadata": {
        "execution": {
          "iopub.status.busy": "2024-06-11T16:48:08.843539Z",
          "iopub.execute_input": "2024-06-11T16:48:08.844008Z",
          "iopub.status.idle": "2024-06-11T16:48:08.858375Z",
          "shell.execute_reply.started": "2024-06-11T16:48:08.84397Z",
          "shell.execute_reply": "2024-06-11T16:48:08.857049Z"
        },
        "trusted": true,
        "id": "8x4VxzcgYH2o"
      },
      "execution_count": null,
      "outputs": []
    },
    {
      "cell_type": "code",
      "source": [
        "# save the model\n",
        "pickle.dump(rf_heart, open(\"rf_heart.pkl\", \"wb\"))"
      ],
      "metadata": {
        "execution": {
          "iopub.status.busy": "2024-06-11T16:48:08.860066Z",
          "iopub.execute_input": "2024-06-11T16:48:08.860476Z",
          "iopub.status.idle": "2024-06-11T16:48:10.260236Z",
          "shell.execute_reply.started": "2024-06-11T16:48:08.860442Z",
          "shell.execute_reply": "2024-06-11T16:48:10.258763Z"
        },
        "trusted": true,
        "id": "UPCGBYpiYH2o"
      },
      "execution_count": null,
      "outputs": []
    },
    {
      "cell_type": "code",
      "source": [
        "pickle.dump(rf_kidney, open(\"rf_kidney.pkl\", \"wb\"))"
      ],
      "metadata": {
        "execution": {
          "iopub.status.busy": "2024-06-11T16:48:10.262492Z",
          "iopub.execute_input": "2024-06-11T16:48:10.263031Z",
          "iopub.status.idle": "2024-06-11T16:48:11.117338Z",
          "shell.execute_reply.started": "2024-06-11T16:48:10.262983Z",
          "shell.execute_reply": "2024-06-11T16:48:11.115985Z"
        },
        "trusted": true,
        "id": "LiG6S3L6YH2o"
      },
      "execution_count": null,
      "outputs": []
    },
    {
      "cell_type": "code",
      "source": [
        "pickle.dump(rf_genhealth, open(\"rf_genhealth.pkl\", \"wb\"))"
      ],
      "metadata": {
        "execution": {
          "iopub.status.busy": "2024-06-11T16:48:11.119013Z",
          "iopub.execute_input": "2024-06-11T16:48:11.119885Z",
          "iopub.status.idle": "2024-06-11T16:48:25.244898Z",
          "shell.execute_reply.started": "2024-06-11T16:48:11.119845Z",
          "shell.execute_reply": "2024-06-11T16:48:25.243655Z"
        },
        "trusted": true,
        "id": "zIuN0h6iYH2o"
      },
      "execution_count": null,
      "outputs": []
    }
  ]
}